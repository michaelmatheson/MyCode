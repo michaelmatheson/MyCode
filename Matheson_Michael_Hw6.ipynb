{
 "cells": [
  {
   "cell_type": "markdown",
   "metadata": {},
   "source": [
    "** Homework six (25 Points)**\n",
    "\n",
    "• (Reading) Ch5, Machine Learning [Python Data Science Handbook](https://jakevdp.github.io/PythonDataScienceHandbook/), up to and including Linear Regression; and the in-class reading ** cross_validation_forEconomists ** on polylearn. \n",
    "\n",
    "• (UnGraded) DataCamp chapter in Supervised Learning with scikit-learn: **Regression** and **Fine Tuning Your Model**. For the Tuning chapter focus on the lessons including and following (Hyperparameter tuning). Quiz questions will be from these chapters and the reading.\n",
    "\n",
    "• (Graded) Below notebook on fine tuning your model. If you're working in a group (max 3 people) please do submit it as a group. Submit only one assignment. You will both receive credit. This homework is longer and will count as hw6 and hw7 - 20 points. The code is very similar to our in-class exercise, therefore, points are granted for understanding of the output. "
   ]
  },
  {
   "cell_type": "code",
   "execution_count": 19,
   "metadata": {},
   "outputs": [],
   "source": [
    "# Import Modules\n",
    "import numpy as np\n",
    "import pandas as pd\n",
    "import matplotlib.pyplot as plt\n",
    "%matplotlib inline  \n",
    "from sklearn.linear_model import LinearRegression\n",
    "from sklearn.linear_model import Ridge\n",
    "from sklearn.linear_model import RidgeCV\n",
    "from sklearn.grid_search import GridSearchCV\n",
    "from sklearn.cross_validation import KFold\n",
    "from sklearn.cross_validation import cross_val_score\n",
    "from sklearn.metrics import mean_squared_error\n",
    "from sklearn.cross_validation import train_test_split\n",
    "from sklearn.preprocessing import PolynomialFeatures"
   ]
  },
  {
   "cell_type": "code",
   "execution_count": 20,
   "metadata": {},
   "outputs": [],
   "source": [
    "# Load the Ladybug data\n",
    "'''In 1983 an article was published about ladybird beetles and their \n",
    "behavior changes under different temperature conditions (N. H. Copp. Animal Behavior, 31,:424-430). \n",
    "An experiment was run to see how many beetles stayed in light as temperature changed.\n",
    "'''\n",
    "\n",
    "# Read the CSV file into a DataFrame: df\n",
    "df = pd.read_csv(\"LadyBugs.csv\")\n",
    "\n",
    "# Create arrays for features (Lighted) and target variable (Temp)\n",
    "y = df[['Lighted']]\n",
    "X = df[['Temp']]"
   ]
  },
  {
   "cell_type": "code",
   "execution_count": 21,
   "metadata": {},
   "outputs": [
    {
     "data": {
      "text/html": [
       "<div>\n",
       "<style scoped>\n",
       "    .dataframe tbody tr th:only-of-type {\n",
       "        vertical-align: middle;\n",
       "    }\n",
       "\n",
       "    .dataframe tbody tr th {\n",
       "        vertical-align: top;\n",
       "    }\n",
       "\n",
       "    .dataframe thead th {\n",
       "        text-align: right;\n",
       "    }\n",
       "</style>\n",
       "<table border=\"1\" class=\"dataframe\">\n",
       "  <thead>\n",
       "    <tr style=\"text-align: right;\">\n",
       "      <th></th>\n",
       "      <th>Temp</th>\n",
       "      <th>Lighted</th>\n",
       "    </tr>\n",
       "  </thead>\n",
       "  <tbody>\n",
       "    <tr>\n",
       "      <th>0</th>\n",
       "      <td>-2</td>\n",
       "      <td>28</td>\n",
       "    </tr>\n",
       "    <tr>\n",
       "      <th>1</th>\n",
       "      <td>-1</td>\n",
       "      <td>29</td>\n",
       "    </tr>\n",
       "    <tr>\n",
       "      <th>2</th>\n",
       "      <td>0</td>\n",
       "      <td>22</td>\n",
       "    </tr>\n",
       "    <tr>\n",
       "      <th>3</th>\n",
       "      <td>1</td>\n",
       "      <td>28</td>\n",
       "    </tr>\n",
       "    <tr>\n",
       "      <th>4</th>\n",
       "      <td>2</td>\n",
       "      <td>34</td>\n",
       "    </tr>\n",
       "  </tbody>\n",
       "</table>\n",
       "</div>"
      ],
      "text/plain": [
       "   Temp  Lighted\n",
       "0    -2       28\n",
       "1    -1       29\n",
       "2     0       22\n",
       "3     1       28\n",
       "4     2       34"
      ]
     },
     "execution_count": 21,
     "metadata": {},
     "output_type": "execute_result"
    }
   ],
   "source": [
    "# Show the first 5 observations (1 point)\n",
    "# your code here\n",
    "\n",
    "df.head()"
   ]
  },
  {
   "cell_type": "markdown",
   "metadata": {
    "collapsed": true
   },
   "source": [
    "# Linear Regression, Part I  "
   ]
  },
  {
   "cell_type": "code",
   "execution_count": 22,
   "metadata": {},
   "outputs": [
    {
     "name": "stdout",
     "output_type": "stream",
     "text": [
      "[[0.36019191]]\n"
     ]
    }
   ],
   "source": [
    "# (1 point)\n",
    "# Create training and test sets with 0.3 test size\n",
    "X_train, X_test, y_train, y_test = train_test_split(X, y, test_size = 0.3)\n",
    "\n",
    "# Create linear regression object call ols\n",
    "ols = LinearRegression()\n",
    "  \n",
    "# Train the model using the training sets\n",
    "ols.fit(X_train, y_train)\n",
    "\n",
    "# Report the coefficient \n",
    "print(ols.coef_)"
   ]
  },
  {
   "cell_type": "markdown",
   "metadata": {},
   "source": [
    "## Plot outputs"
   ]
  },
  {
   "cell_type": "code",
   "execution_count": 23,
   "metadata": {},
   "outputs": [
    {
     "data": {
      "text/plain": [
       "<matplotlib.collections.PathCollection at 0x10b1dd588>"
      ]
     },
     "execution_count": 23,
     "metadata": {},
     "output_type": "execute_result"
    },
    {
     "data": {
      "image/png": "[encoded data removed]",
      "text/plain": [
       "<Figure size 432x288 with 1 Axes>"
      ]
     },
     "metadata": {},
     "output_type": "display_data"
    }
   ],
   "source": [
    "# (1 point)\n",
    "# This plots the predicted ols fitted line\n",
    "min = X_test.min()\n",
    "max = X_test.max() \n",
    "predictor_space = pd.DataFrame(np.arange(min, max,  0.05))\n",
    "plt.plot(predictor_space, ols.predict(predictor_space), color='blue', linewidth=3)\n",
    "\n",
    "# Scatter plot the actual test data \n",
    "plt.scatter(X_test,y_test, color='green')\n"
   ]
  },
  {
   "cell_type": "markdown",
   "metadata": {},
   "source": [
    "## Predict on the Test data"
   ]
  },
  {
   "cell_type": "code",
   "execution_count": 24,
   "metadata": {},
   "outputs": [
    {
     "name": "stdout",
     "output_type": "stream",
     "text": [
      "R^2: 0.08740846832496296\n",
      "Root Mean Squared Error: 14.112210226293536\n"
     ]
    }
   ],
   "source": [
    "# Get the predicted y_pred using the test data\n",
    "y_pred = ols.predict(X_test)\n",
    "\n",
    "# Compute and print the R^2 and RMSE\n",
    "print(\"R^2: {}\".format(ols.score(X_test, y_test)))\n",
    "rmse = np.sqrt(mean_squared_error(y_test, y_pred))\n",
    "print(\"Root Mean Squared Error: {}\".format(rmse))"
   ]
  },
  {
   "cell_type": "markdown",
   "metadata": {},
   "source": [
    "## a. Does this plot look like a good fit to the data? # (1 point)\n",
    "\n",
    "No this plot does not look like a good fit to the data.  Most of the data is concentrated between 0 and 5 and there is a large outlier past 30. \n",
    "\n",
    "\n",
    "## b. What do out of sample metrics tell you? (1 point)\n",
    "The R^2 value really low meaning twe are not predicting y well.  The large outliers cause the high mean squared error because of high residuals.  There is a high bias and low variance in the data."
   ]
  },
  {
   "cell_type": "markdown",
   "metadata": {},
   "source": [
    "# Polynomial Regression, Part II"
   ]
  },
  {
   "cell_type": "code",
   "execution_count": 25,
   "metadata": {},
   "outputs": [
    {
     "name": "stdout",
     "output_type": "stream",
     "text": [
      "Dimensions of X after reshaping: (44, 16)\n",
      "[[ 0.00000000e+00  6.43690614e-10 -5.67610247e-13  5.43864395e-13\n",
      "   6.09659111e-12  6.29041589e-11  5.78951242e-10  4.50273792e-09\n",
      "   2.65555861e-08  8.91727026e-08 -2.03238269e-08  1.86677128e-09\n",
      "  -9.01836606e-11  2.42624535e-12 -3.45159640e-14  2.03010583e-16]]\n"
     ]
    }
   ],
   "source": [
    "#(2 points)\n",
    "# Reload the CSV file into a DataFrame: df\n",
    "df = pd.read_csv(\"LadyBugs.csv\")\n",
    "\n",
    "# Create arrays for features (Lighted) and target variable (Temp)\n",
    "yp = df[['Lighted']]\n",
    "Xp = df[['Temp']]\n",
    "\n",
    "# Add in 15-degree polynomial of the X variables\n",
    "poly = PolynomialFeatures(degree = 15)\n",
    "Xp = pd.DataFrame(poly.fit_transform(Xp))\n",
    "print(\"Dimensions of X after reshaping: {}\".format(Xp.shape))\n",
    "\n",
    "# Create training and test sets with .3 test size\n",
    "Xp_train, Xp_test, yp_train, yp_test = train_test_split(Xp, yp, test_size = 0.3)\n",
    "\n",
    "# Create linear regression object, ols2\n",
    "ols2 = LinearRegression()\n",
    "  \n",
    "# Fit the model using the training sets \n",
    "ols2.fit(Xp_train,yp_train)\n",
    "  \n",
    "# Report the coefficients\n",
    "print(ols2.coef_)                   \n",
    "  "
   ]
  },
  {
   "cell_type": "markdown",
   "metadata": {},
   "source": [
    "## Plot outputs"
   ]
  },
  {
   "cell_type": "code",
   "execution_count": 26,
   "metadata": {},
   "outputs": [
    {
     "data": {
      "text/plain": [
       "<matplotlib.collections.PathCollection at 0x10b29d550>"
      ]
     },
     "execution_count": 26,
     "metadata": {},
     "output_type": "execute_result"
    },
    {
     "data": {
      "image/png": "[encoded data removed]",
      "text/plain": [
       "<Figure size 432x288 with 1 Axes>"
      ]
     },
     "metadata": {},
     "output_type": "display_data"
    }
   ],
   "source": [
    "#(1 point)\n",
    "# This plots the predicted ols fitted line\n",
    "predictor_space = pd.DataFrame(np.arange(min, max, 0.05)) # Creates prediction space on x interval\n",
    "predictor_poly = pd.DataFrame(poly.fit_transform(predictor_space)) # Creates data to predict on\n",
    "plt.plot(predictor_space, ols2.predict(predictor_poly), color='blue') # Plot fitted model \n",
    "\n",
    "# Scatter plot the actual test data\n",
    "plt.scatter(X_test,y_test,color='red')"
   ]
  },
  {
   "cell_type": "markdown",
   "metadata": {},
   "source": [
    "## Predict on the Test data"
   ]
  },
  {
   "cell_type": "code",
   "execution_count": 27,
   "metadata": {},
   "outputs": [
    {
     "name": "stdout",
     "output_type": "stream",
     "text": [
      "-0.36037932765159986\n",
      "16.126422264088294\n"
     ]
    }
   ],
   "source": [
    "#(1 point)\n",
    "# Predict on the test data: y_pred\n",
    "y_pred = ols2.predict(Xp_test)\n",
    "\n",
    "# Computer and print R^2 and RMSE\n",
    "print(ols2.score(Xp_test,yp_test))\n",
    "print(np.sqrt(mean_squared_error(yp_test,y_pred)))"
   ]
  },
  {
   "cell_type": "markdown",
   "metadata": {},
   "source": [
    "## a. Does this plot look better than the previous OLS plot? (1 point)\n",
    "\n",
    "Yes, it fits better.\n",
    "## b. Why? What do out of sample metrics tell you? (1 point)\n",
    "\n",
    "Higher R^2 so the line is a better fit. \n"
   ]
  },
  {
   "cell_type": "markdown",
   "metadata": {},
   "source": [
    "# Ridge Regression, Part III"
   ]
  },
  {
   "cell_type": "code",
   "execution_count": 28,
   "metadata": {},
   "outputs": [
    {
     "name": "stdout",
     "output_type": "stream",
     "text": [
      "Dimensions of X after reshaping: (44, 16)\n",
      "[[ 0.00000000e+00  1.44830147e+00 -2.68005401e-03 -4.56410863e-04\n",
      "  -1.56277825e-05 -4.19412426e-07 -9.99061691e-09 -2.13402113e-10\n",
      "  -3.83252990e-12 -4.11471384e-14  8.69776867e-16  8.62451828e-17\n",
      "   4.31962826e-18  1.79910761e-19  6.87176510e-21  2.49695838e-22]]\n"
     ]
    }
   ],
   "source": [
    "#(1 point)\n",
    "# Read the CSV file into a DataFrame: df\n",
    "df = pd.read_csv(\"LadyBugs.csv\")\n",
    "# Create arrays for features (Lighted) and target variable (Temp)\n",
    "yr = df[['Lighted']]\n",
    "Xr = df[['Temp']]\n",
    "\n",
    "# Add in 15-degree polynomial of the X variables\n",
    "poly = PolynomialFeatures(degree = 15)\n",
    "Xr = pd.DataFrame(poly.fit_transform(Xr))\n",
    "print(\"Dimensions of X after reshaping: {}\".format(Xr.shape))\n",
    "  \n",
    "# Create training and test sets\n",
    "Xr_train, Xr_test, yr_train, yr_test = train_test_split(Xr, yr, test_size = 0.3)\n",
    "\n",
    "# Create a ridge regressor object called ridge with lambda = 0.1\n",
    "ridge = Ridge(normalize = True, alpha = 0.1)\n",
    "\n",
    "# Train the ridge model using the training sets (the polynomial factors are in the data)\n",
    "ridge.fit(Xr_train,yr_train)\n",
    "\n",
    "# The coefficients\n",
    "print(ridge.coef_)"
   ]
  },
  {
   "cell_type": "markdown",
   "metadata": {},
   "source": [
    "## Plot outputs"
   ]
  },
  {
   "cell_type": "code",
   "execution_count": 30,
   "metadata": {},
   "outputs": [
    {
     "data": {
      "text/plain": [
       "<matplotlib.collections.PathCollection at 0x10b417668>"
      ]
     },
     "execution_count": 30,
     "metadata": {},
     "output_type": "execute_result"
    },
    {
     "data": {
      "image/png": "[encoded data removed]",
      "text/plain": [
       "<Figure size 432x288 with 1 Axes>"
      ]
     },
     "metadata": {},
     "output_type": "display_data"
    }
   ],
   "source": [
    "#(1 point)\n",
    "# This plots the predicted ols fitted line\n",
    "predictor_space = pd.DataFrame(np.arange(min, max, 0.05)) # Creates prediction space on x interval\n",
    "predictor_poly = pd.DataFrame(poly.fit_transform(predictor_space)) # Creates data to predict on\n",
    "plt.plot(predictor_space, ridge.predict(predictor_poly), color='red') # Plot fitted model \n",
    "\n",
    "# Scatter plot the actual test data\n",
    "plt.scatter(X_test,y_test)"
   ]
  },
  {
   "cell_type": "markdown",
   "metadata": {},
   "source": [
    "## a. Does this plot look better than the previous Polynomial plot? (1 point)\n",
    "Yes this plot is looks better than the previous one.\n",
    "## b. Why? What do out of sample metrics tell you? (1 point)\n",
    "The residuals are smaller and the line is fitted better."
   ]
  },
  {
   "cell_type": "markdown",
   "metadata": {},
   "source": [
    "# Get the 5 fold CV Scores (R2) for all 3 models"
   ]
  },
  {
   "cell_type": "code",
   "execution_count": 31,
   "metadata": {},
   "outputs": [
    {
     "name": "stdout",
     "output_type": "stream",
     "text": [
      "Cross-validated OLS scores: [-30.75075459  -0.04556113 -14.29669246  -2.24972457 -29.57476511]\n",
      "Cross-validated OLS scores: [-2.54038802e+01 -5.24938593e-03 -1.73959354e+01 -3.38614874e+01\n",
      " -9.08622634e+14]\n",
      "Cross-validated OLS scores: [-2.33809737e+01  2.19479692e-01 -1.09999672e+01 -4.16344039e-01\n",
      " -7.06842774e+04]\n"
     ]
    }
   ],
   "source": [
    "#(1 points)\n",
    "\n",
    "#ols\n",
    "ols_scores = cross_val_score(ols, X, y, cv = 5, scoring = 'r2')\n",
    "print(\"Cross-validated OLS scores:\", ols_scores)\n",
    "\n",
    "#ols2\n",
    "poly_scores = cross_val_score(ols2, Xp, yp, cv = 5, scoring = 'r2')\n",
    "print(\"Cross-validated OLS scores:\", poly_scores)\n",
    "\n",
    "# ridge\n",
    "ridge_scores = cross_val_score(ridge, Xr, yr, cv = 5, scoring = 'r2')\n",
    "print(\"Cross-validated OLS scores:\", ridge_scores)"
   ]
  },
  {
   "cell_type": "markdown",
   "metadata": {},
   "source": [
    "## Explain which model if any is best and why. (1 point)\n",
    "The last model is the best because it has the closest fit to the data points and the highest R^2."
   ]
  },
  {
   "cell_type": "markdown",
   "metadata": {},
   "source": [
    "# Hyper Tune Lambda, K-fold Grid Search, Ridge Regression, Part IV"
   ]
  },
  {
   "cell_type": "code",
   "execution_count": 32,
   "metadata": {},
   "outputs": [
    {
     "name": "stdout",
     "output_type": "stream",
     "text": [
      "Dimensions of X after reshaping: (44, 16)\n"
     ]
    },
    {
     "data": {
      "text/plain": [
       "GridSearchCV(cv=5, error_score='raise',\n",
       "       estimator=Ridge(alpha=1.0, copy_X=True, fit_intercept=True, max_iter=None,\n",
       "   normalize=True, random_state=None, solver='auto', tol=0.001),\n",
       "       fit_params={}, iid=True, n_jobs=1,\n",
       "       param_grid={'alpha': array([1.00000e-03, 1.06211e-01, 2.11421e-01, 3.16632e-01, 4.21842e-01,\n",
       "       5.27053e-01, 6.32263e-01, 7.37474e-01, 8.42684e-01, 9.47895e-01,\n",
       "       1.05311e+00, 1.15832e+00, 1.26353e+00, 1.36874e+00, 1.47395e+00,\n",
       "       1.57916e+00, 1.68437e+00, 1.78958e+00, 1.89479e+00, 2.00000e+00])},\n",
       "       pre_dispatch='2*n_jobs', refit=True, scoring=None, verbose=0)"
      ]
     },
     "execution_count": 32,
     "metadata": {},
     "output_type": "execute_result"
    }
   ],
   "source": [
    "#(4 points)\n",
    "\n",
    "# Read the CSV file into a DataFrame: df\n",
    "df = pd.read_csv(\"LadyBugs.csv\")\n",
    "\n",
    "# Create arrays for features (Lighted) and target variable (Temp)\n",
    "yh = df[['Lighted']]\n",
    "Xh = df[['Temp']]\n",
    "\n",
    "# Add in 15-degree polynomial of the X variables\n",
    "poly = PolynomialFeatures(degree = 15)\n",
    "Xh = pd.DataFrame(poly.fit_transform(Xh))\n",
    "print(\"Dimensions of X after reshaping: {}\".format(Xh.shape))\n",
    "\n",
    "# Create training and test sets with 0.3 hold out for test data\n",
    "Xh_train, Xh_test, yh_train, yh_test = train_test_split(Xh, yh, test_size = 0.3)\n",
    "\n",
    "# Setup a grid of lambdas (aka alphas) called param_grid of 20 lambdas from .001 to 2 \n",
    "param_grid = {'alpha': np.linspace(0.001, 2.0, num = 20)}\n",
    "\n",
    "# Create a ridge regressor object called ridge\n",
    "ridge = Ridge(normalize = True)\n",
    "\n",
    "# Setup the GridSearchCV object called grid_ridge for 5 folds using the param_grid above and ridge object\n",
    "grid_ridge = GridSearchCV(ridge, param_grid, cv = 5)\n",
    "\n",
    "# Train the model using the training sets 5 folds for all lambdas!\n",
    "grid_ridge.fit(Xh_train,yh_train)\n",
    "\n",
    "#Get the best lambda\n",
    "best = grid_ridge.best_params_\n",
    "\n",
    "# Create a final ridge regressor object called ridge_final using the best lambda from hypertuning\n",
    "ridge_final = Ridge(alpha = best['alpha'], normalize = True)\n",
    "\n",
    "# Now fit this model on the test data \n",
    "grid_ridge.fit(Xh_test, yh_test)\n"
   ]
  },
  {
   "cell_type": "markdown",
   "metadata": {},
   "source": [
    "## Plot outputs"
   ]
  },
  {
   "cell_type": "code",
   "execution_count": 35,
   "metadata": {},
   "outputs": [
    {
     "data": {
      "text/plain": [
       "<matplotlib.collections.PathCollection at 0x10b619828>"
      ]
     },
     "execution_count": 35,
     "metadata": {},
     "output_type": "execute_result"
    },
    {
     "data": {
      "image/png": "[encoded data removed]",
      "text/plain": [
       "<Figure size 432x288 with 1 Axes>"
      ]
     },
     "metadata": {},
     "output_type": "display_data"
    }
   ],
   "source": [
    "#(1 point)\n",
    "predictor_space = pd.DataFrame(np.arange(min, max, 0.05)) # Creates prediction space on x interval\n",
    "predictor_poly = pd.DataFrame(poly.fit_transform(predictor_space)) # Creates data to predict on\n",
    "ridge_final.fit(Xr_train,yr_train)\n",
    "plt.plot(predictor_space, ridge_final.predict(predictor_poly), color = 'blue') # Plot fitted model \n",
    "\n",
    "# Scatter plot the actual test data\n",
    "plt.scatter(X_test, y_test, color = 'red')"
   ]
  },
  {
   "cell_type": "markdown",
   "metadata": {},
   "source": [
    "## Final scores given tuned lambda"
   ]
  },
  {
   "cell_type": "code",
   "execution_count": 37,
   "metadata": {},
   "outputs": [
    {
     "name": "stdout",
     "output_type": "stream",
     "text": [
      "R^2: 0.5682070064104552\n",
      "Root Mean Squared Error: 8.060087983758553\n"
     ]
    }
   ],
   "source": [
    "#(1 point)\n",
    "# Predict on the test data: y_pred\n",
    "y_pred = ridge_final.predict(Xh_test)\n",
    "\n",
    "# Compute and print R^2 and RMSE\n",
    "print(\"R^2: {}\".format(ridge_final.score(Xh_test,yh_test)))\n",
    "rmse = np.sqrt(mean_squared_error(yh_test,y_pred))\n",
    "print(\"Root Mean Squared Error: {}\".format(rmse))"
   ]
  },
  {
   "cell_type": "markdown",
   "metadata": {},
   "source": [
    "## a. How does your final score (R2) compare to before? (1 point)\n",
    "Current R^2 is much higher than past R^2.\n",
    "## b. What about your fit to the data graphically? (1 point)\n",
    "Graphically, the line goes through the majority of data points and doesnt wiggle as much as the second one.\n",
    "## c. Why do you think the fit is better or worse using Ridge and hypertuning your lambda paramater? (2 point)\n",
    "Hypertuning the lambda parameter creates a better line of fit because it optimizes the beta coefficients to give us a more efficient model."
   ]
  },
  {
   "cell_type": "code",
   "execution_count": null,
   "metadata": {
    "collapsed": true
   },
   "outputs": [],
   "source": []
  }
 ],
 "metadata": {
  "kernelspec": {
   "display_name": "Python 3",
   "language": "python",
   "name": "python3"
  },
  "language_info": {
   "codemirror_mode": {
    "name": "ipython",
    "version": 3
   },
   "file_extension": ".py",
   "mimetype": "text/x-python",
   "name": "python",
   "nbconvert_exporter": "python",
   "pygments_lexer": "ipython3",
   "version": "3.6.5"
  }
 },
 "nbformat": 4,
 "nbformat_minor": 2
}
